{
  "nbformat": 4,
  "nbformat_minor": 0,
  "metadata": {
    "colab": {
      "provenance": [],
      "authorship_tag": "ABX9TyOM5kFOLz4+vb6W4uPTuzMy",
      "include_colab_link": true
    },
    "kernelspec": {
      "name": "python3",
      "display_name": "Python 3"
    },
    "language_info": {
      "name": "python"
    }
  },
  "cells": [
    {
      "cell_type": "markdown",
      "metadata": {
        "id": "view-in-github",
        "colab_type": "text"
      },
      "source": [
        "<a href=\"https://colab.research.google.com/github/SanaAlotaibi/DataScienceProject/blob/main/IT362.ipynb\" target=\"_parent\"><img src=\"https://colab.research.google.com/assets/colab-badge.svg\" alt=\"Open In Colab\"/></a>"
      ]
    },
    {
      "cell_type": "code",
      "execution_count": 7,
      "metadata": {
        "colab": {
          "base_uri": "https://localhost:8080/"
        },
        "id": "nYs8q4GDtUIs",
        "outputId": "ee869558-0323-4018-99f2-983a44cdb1e8"
      },
      "outputs": [
        {
          "output_type": "stream",
          "name": "stdout",
          "text": [
            "Number of attributes: 13\n",
            "\n",
            "\n",
            "Number of objects: 5759\n",
            "\n",
            "\n",
            "Attributes and Their Types:\n",
            "          AttributeName DataType\n",
            "0                  name   object\n",
            "1                 owner   object\n",
            "2                   url   object\n",
            "3           description   object\n",
            "4                 stars   object\n",
            "5                 forks   object\n",
            "6            created_at   object\n",
            "7             pushed_at   object\n",
            "8      primary_language   object\n",
            "9   all_languages_bytes   object\n",
            "10               topics   object\n",
            "11              license   object\n",
            "12   contributors_count  float64\n"
          ]
        }
      ],
      "source": [
        "import pandas as pd\n",
        "import numpy as np\n",
        "\n",
        "\n",
        "# Load the dataset\n",
        "df = pd.read_csv('Raw_Dataset.csv')\n",
        "\n",
        "# Create a DataFrame to show attribute information\n",
        "attribute_informations = pd.DataFrame({\n",
        "    'AttributeName' : df.columns,\n",
        "    'DataType' : df.dtypes.values\n",
        "})\n",
        "\n",
        "# Display information about the dataset\n",
        "print(f\"Number of attributes: {len(df.columns)}\")\n",
        "print('\\n')\n",
        "print(f\"Number of objects: {len(df)}\")\n",
        "print('\\n')\n",
        "print(\"Attributes and Their Types:\")\n",
        "print(attribute_informations)"
      ]
    },
    {
      "cell_type": "code",
      "source": [
        "try:\n",
        "# Check for missing values and duplicates\n",
        "    print(\"Missing values per column:\")\n",
        "    print(df.isnull().sum())\n",
        "\n",
        "    print(\"\\nNumber of duplicate rows:\")\n",
        "    print(df.duplicated().sum())\n",
        "\n",
        "    # Remove rows with null values only in the 'primary_language' column\n",
        "    df_cleaned = df.dropna(subset=['primary_language'])\n",
        "\n",
        "    # Remove duplicate rows from the remaining data\n",
        "    df_cleaned = df_cleaned.drop_duplicates()\n",
        "\n",
        "    # Display the new shape of the dataframe to show the changes\n",
        "    print(\"Original DataFrame shape:\")\n",
        "    print(df.shape)\n",
        "    print(\"\\nCleaned DataFrame shape:\")\n",
        "    print(df_cleaned.shape)\n",
        "\n",
        "    # Save the cleaned dataframe to a new CSV file\n",
        "    df_cleaned.to_csv('Cleaned_Dataset.csv', index=False)\n",
        "\n",
        "except FileNotFoundError:\n",
        "    print(\"File not found. Please ensure 'Raw_Dataset.csv' is in the correct directory.\")\n",
        "\n",
        "except Exception as e:\n",
        "    print(f\"An error occurred: {e}\")"
      ],
      "metadata": {
        "colab": {
          "base_uri": "https://localhost:8080/"
        },
        "id": "0Pg1PLWXxTCs",
        "outputId": "adca7ec9-c152-4608-dff9-9369bc900d18"
      },
      "execution_count": 8,
      "outputs": [
        {
          "output_type": "stream",
          "name": "stdout",
          "text": [
            "Missing values per column:\n",
            "name                      0\n",
            "owner                     1\n",
            "url                       1\n",
            "description             115\n",
            "stars                     1\n",
            "forks                     1\n",
            "created_at                1\n",
            "pushed_at                 1\n",
            "primary_language        644\n",
            "all_languages_bytes       1\n",
            "topics                 1098\n",
            "license                 221\n",
            "contributors_count     4759\n",
            "dtype: int64\n",
            "\n",
            "Number of duplicate rows:\n",
            "32\n",
            "Original DataFrame shape:\n",
            "(5759, 13)\n",
            "\n",
            "Cleaned DataFrame shape:\n",
            "(5088, 13)\n"
          ]
        }
      ]
    }
  ]
}